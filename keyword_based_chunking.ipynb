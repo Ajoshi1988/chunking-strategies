{
 "cells": [
  {
   "cell_type": "code",
   "execution_count": 33,
   "id": "c30f37fa-b59c-4734-a558-d791457b8f13",
   "metadata": {},
   "outputs": [],
   "source": [
    "from typing import List"
   ]
  },
  {
   "cell_type": "code",
   "execution_count": 34,
   "id": "0f5aae46-52be-495d-b402-821ca03178ab",
   "metadata": {},
   "outputs": [],
   "source": [
    "def keyword_chunking(filename:str, key_word_list: list)->List:\n",
    "\n",
    "    \"\"\"Iterate through all the setences, if the keyword is found then, append to the dictinory that thas the keyword as the key \"\"\"\n",
    "    \n",
    "    with open(filename, 'r', encoding='utf-8') as file:\n",
    "        text = file.read()\n",
    "\n",
    "        \n",
    "        keyword_chunk_dict={}\n",
    "\n",
    "        for txt in text.split(\".\"):\n",
    "            \n",
    "            for ky in  key_word_list:\n",
    "\n",
    "                if ky in keyword_chunk_dict.keys():\n",
    "                    pass\n",
    "                else:\n",
    "                    keyword_chunk_dict[ky.lower()]=[]\n",
    "                \n",
    "                if ky.lower() in txt.lower():\n",
    "\n",
    "                     keyword_chunk_dict[ky.lower()].append(txt)\n",
    "                     \n",
    "        return(keyword_chunk_dict)    \n",
    "            \n",
    "\n",
    "        "
   ]
  },
  {
   "cell_type": "code",
   "execution_count": 32,
   "id": "d522b4bb-764f-4c0d-8e87-8e8efdfd5731",
   "metadata": {},
   "outputs": [
    {
     "data": {
      "text/plain": [
       "{'artificial intelligence': ['Artificial Intelligence refers to the intelligence of machines',\n",
       "  ' With Artificial Intelligence, machines perform functions such as learning, planning, reasoning and problem-solving',\n",
       "  ' Most noteworthy, Artificial Intelligence is the simulation of human intelligence by machines',\n",
       "  '\\nTypes of Artificial Intelligence\\nFirst of all, the categorization of Artificial Intelligence is into four types',\n",
       "  '\\n\\nType 4: Self-awareness – This is the highest and most sophisticated level of Artificial Intelligence',\n",
       "  '\\n\\nApplications of Artificial Intelligence\\nFirst of all, AI has significant use in healthcare',\n",
       "  ' Artificial Intelligence would efficiently operate on patients without human supervision',\n",
       "  '\\n\\nArtificial Intelligence in business would significantly save time and effort',\n",
       "  '\\nArtificial Intelligence has applications in various other fields',\n",
       "  '\\nTo sum it up, Artificial Intelligence looks all set to be the future of the World',\n",
       "  ' With Artificial Intelligence, the future seems intriguing and exciting',\n",
       "  '\\n\\n\\n\\n\\nChapter I\\nQualities of artificial intelligence\\nAlthough there is no uniformly agreed upon definition, AI generally is thought to refer to “machines that respond to stimulation consistent with traditional responses from humans, given the human capacity for contemplation, judgment and intention',\n",
       "  '\\n\\nIntentionality\\nArtificial intelligence algorithms are designed to make decisions, often using real-time data',\n",
       "  '\\n\\nArtificial intelligence is already altering the world and raising important questions for society, the economy, and governance',\n",
       "  ' A project undertaken by PriceWaterhouseCoopers estimated that “artificial intelligence technologies could increase global GDP by $15',\n",
       "  '”16\\n\\nArtificial intelligence will accelerate the traditional process of warfare so rapidly that a new term has been coined: hyperwar'],\n",
       " 'manufacturing': ['\\nAI can greatly increase the rate of work in manufacturing']}"
      ]
     },
     "execution_count": 32,
     "metadata": {},
     "output_type": "execute_result"
    }
   ],
   "source": [
    "jj=keyword_chunking('AI_essay.txt', ['artificial intelligence', 'manufacturing'])\n",
    "jj"
   ]
  },
  {
   "cell_type": "code",
   "execution_count": 31,
   "id": "ed29b9c6-7bd8-49dc-8662-63351b6937ec",
   "metadata": {},
   "outputs": [
    {
     "data": {
      "text/plain": [
       "{'artificial intelligence': ['Artificial Intelligence refers to the intelligence of machines',\n",
       "  ' With Artificial Intelligence, machines perform functions such as learning, planning, reasoning and problem-solving',\n",
       "  ' Most noteworthy, Artificial Intelligence is the simulation of human intelligence by machines',\n",
       "  '\\nTypes of Artificial Intelligence\\nFirst of all, the categorization of Artificial Intelligence is into four types',\n",
       "  '\\n\\nType 4: Self-awareness – This is the highest and most sophisticated level of Artificial Intelligence',\n",
       "  '\\n\\nApplications of Artificial Intelligence\\nFirst of all, AI has significant use in healthcare',\n",
       "  ' Artificial Intelligence would efficiently operate on patients without human supervision',\n",
       "  '\\n\\nArtificial Intelligence in business would significantly save time and effort',\n",
       "  '\\nArtificial Intelligence has applications in various other fields',\n",
       "  '\\nTo sum it up, Artificial Intelligence looks all set to be the future of the World',\n",
       "  ' With Artificial Intelligence, the future seems intriguing and exciting',\n",
       "  '\\n\\n\\n\\n\\nChapter I\\nQualities of artificial intelligence\\nAlthough there is no uniformly agreed upon definition, AI generally is thought to refer to “machines that respond to stimulation consistent with traditional responses from humans, given the human capacity for contemplation, judgment and intention',\n",
       "  '\\n\\nIntentionality\\nArtificial intelligence algorithms are designed to make decisions, often using real-time data',\n",
       "  '\\n\\nArtificial intelligence is already altering the world and raising important questions for society, the economy, and governance',\n",
       "  ' A project undertaken by PriceWaterhouseCoopers estimated that “artificial intelligence technologies could increase global GDP by $15',\n",
       "  '”16\\n\\nArtificial intelligence will accelerate the traditional process of warfare so rapidly that a new term has been coined: hyperwar'],\n",
       " 'manufacturing': ['\\nAI can greatly increase the rate of work in manufacturing']}"
      ]
     },
     "execution_count": 31,
     "metadata": {},
     "output_type": "execute_result"
    }
   ],
   "source": []
  },
  {
   "cell_type": "code",
   "execution_count": null,
   "id": "e06d0444-9fd4-4abd-a7fc-77ac71a140ac",
   "metadata": {},
   "outputs": [],
   "source": []
  },
  {
   "cell_type": "code",
   "execution_count": null,
   "id": "7adf4687-01dc-4c3a-85b5-6125fbc1e4dc",
   "metadata": {},
   "outputs": [],
   "source": []
  }
 ],
 "metadata": {
  "kernelspec": {
   "display_name": "Python 3 (ipykernel)",
   "language": "python",
   "name": "python3"
  },
  "language_info": {
   "codemirror_mode": {
    "name": "ipython",
    "version": 3
   },
   "file_extension": ".py",
   "mimetype": "text/x-python",
   "name": "python",
   "nbconvert_exporter": "python",
   "pygments_lexer": "ipython3",
   "version": "3.12.3"
  }
 },
 "nbformat": 4,
 "nbformat_minor": 5
}
